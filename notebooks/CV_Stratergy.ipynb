{
 "cells": [
  {
   "cell_type": "code",
   "execution_count": 1,
   "metadata": {},
   "outputs": [],
   "source": [
    "%matplotlib inline\n",
    "%reload_ext autoreload\n",
    "%autoreload 2"
   ]
  },
  {
   "cell_type": "raw",
   "metadata": {},
   "source": [
    "NB_PATH = \"\"\n",
    "!jupyter nbconvert --to notebook --inplace  --ExecutePreprocessor.timeout=-1 --execute NB_PATH\n",
    "!!jupyter nbconvert --to script NB_PATH"
   ]
  },
  {
   "cell_type": "raw",
   "metadata": {},
   "source": [
    "Dataframe"
   ]
  },
  {
   "cell_type": "code",
   "execution_count": 1,
   "metadata": {},
   "outputs": [],
   "source": [
    "import pandas as pd\n",
    "import os\n",
    "from fastai2.vision.all import *"
   ]
  },
  {
   "cell_type": "code",
   "execution_count": 2,
   "metadata": {},
   "outputs": [
    {
     "data": {
      "text/plain": [
       "32"
      ]
     },
     "execution_count": 2,
     "metadata": {},
     "output_type": "execute_result"
    }
   ],
   "source": [
    "num_cpus()"
   ]
  },
  {
   "cell_type": "code",
   "execution_count": 3,
   "metadata": {},
   "outputs": [],
   "source": [
    "path = '/home/ubuntu/crop/data_v1/train'\n",
    "imgs = get_image_files(path)"
   ]
  },
  {
   "cell_type": "code",
   "execution_count": 4,
   "metadata": {},
   "outputs": [],
   "source": [
    "df = pd.DataFrame(imgs, columns =['names']) "
   ]
  },
  {
   "cell_type": "code",
   "execution_count": 5,
   "metadata": {},
   "outputs": [],
   "source": [
    "def get_labels(x):\n",
    "    return x[\"names\"].parent.name\n",
    "df[\"label\"] = df.apply(lambda x: get_labels(x), axis=1)\n",
    "df[\"names\"] = df.apply(lambda x: x[\"names\"].name, axis=1)"
   ]
  },
  {
   "cell_type": "code",
   "execution_count": 6,
   "metadata": {},
   "outputs": [
    {
     "data": {
      "text/html": [
       "<div>\n",
       "<style scoped>\n",
       "    .dataframe tbody tr th:only-of-type {\n",
       "        vertical-align: middle;\n",
       "    }\n",
       "\n",
       "    .dataframe tbody tr th {\n",
       "        vertical-align: top;\n",
       "    }\n",
       "\n",
       "    .dataframe thead th {\n",
       "        text-align: right;\n",
       "    }\n",
       "</style>\n",
       "<table border=\"1\" class=\"dataframe\">\n",
       "  <thead>\n",
       "    <tr style=\"text-align: right;\">\n",
       "      <th></th>\n",
       "      <th>names</th>\n",
       "      <th>label</th>\n",
       "    </tr>\n",
       "  </thead>\n",
       "  <tbody>\n",
       "    <tr>\n",
       "      <th>0</th>\n",
       "      <td>5QLT82.jpg</td>\n",
       "      <td>leaf_rust</td>\n",
       "    </tr>\n",
       "    <tr>\n",
       "      <th>1</th>\n",
       "      <td>VI0BFY.jpg</td>\n",
       "      <td>leaf_rust</td>\n",
       "    </tr>\n",
       "    <tr>\n",
       "      <th>2</th>\n",
       "      <td>WJN651.JPG</td>\n",
       "      <td>leaf_rust</td>\n",
       "    </tr>\n",
       "    <tr>\n",
       "      <th>3</th>\n",
       "      <td>D5PGB3.jpg</td>\n",
       "      <td>leaf_rust</td>\n",
       "    </tr>\n",
       "    <tr>\n",
       "      <th>4</th>\n",
       "      <td>1DV8YN.jpg</td>\n",
       "      <td>leaf_rust</td>\n",
       "    </tr>\n",
       "    <tr>\n",
       "      <th>...</th>\n",
       "      <td>...</td>\n",
       "      <td>...</td>\n",
       "    </tr>\n",
       "    <tr>\n",
       "      <th>871</th>\n",
       "      <td>IFQPSK.jpg</td>\n",
       "      <td>stem_rust</td>\n",
       "    </tr>\n",
       "    <tr>\n",
       "      <th>872</th>\n",
       "      <td>LQV40X.jpg</td>\n",
       "      <td>stem_rust</td>\n",
       "    </tr>\n",
       "    <tr>\n",
       "      <th>873</th>\n",
       "      <td>KAQWIP.JPG</td>\n",
       "      <td>stem_rust</td>\n",
       "    </tr>\n",
       "    <tr>\n",
       "      <th>874</th>\n",
       "      <td>2TUOEI.JPG</td>\n",
       "      <td>stem_rust</td>\n",
       "    </tr>\n",
       "    <tr>\n",
       "      <th>875</th>\n",
       "      <td>0I8NWR.JPG</td>\n",
       "      <td>stem_rust</td>\n",
       "    </tr>\n",
       "  </tbody>\n",
       "</table>\n",
       "<p>876 rows × 2 columns</p>\n",
       "</div>"
      ],
      "text/plain": [
       "          names      label\n",
       "0    5QLT82.jpg  leaf_rust\n",
       "1    VI0BFY.jpg  leaf_rust\n",
       "2    WJN651.JPG  leaf_rust\n",
       "3    D5PGB3.jpg  leaf_rust\n",
       "4    1DV8YN.jpg  leaf_rust\n",
       "..          ...        ...\n",
       "871  IFQPSK.jpg  stem_rust\n",
       "872  LQV40X.jpg  stem_rust\n",
       "873  KAQWIP.JPG  stem_rust\n",
       "874  2TUOEI.JPG  stem_rust\n",
       "875  0I8NWR.JPG  stem_rust\n",
       "\n",
       "[876 rows x 2 columns]"
      ]
     },
     "execution_count": 6,
     "metadata": {},
     "output_type": "execute_result"
    }
   ],
   "source": [
    "df"
   ]
  },
  {
   "cell_type": "markdown",
   "metadata": {},
   "source": [
    "Make sure the validation is stratified"
   ]
  },
  {
   "cell_type": "code",
   "execution_count": 7,
   "metadata": {},
   "outputs": [],
   "source": [
    "def random_sample(df, sample_pct):\n",
    "    x, y = df.shape\n",
    "    num_samples = int(x* sample_pct)\n",
    "    sampled_index = random.sample(range(0, x),num_samples)\n",
    "    df[\"is_valid\"] = df.index.isin(sampled_index)\n",
    "    print(df[df['is_valid']==True][\"label\"].value_counts())\n",
    "    return df"
   ]
  },
  {
   "cell_type": "code",
   "execution_count": 8,
   "metadata": {},
   "outputs": [
    {
     "name": "stdout",
     "output_type": "stream",
     "text": [
      "stem_rust        75\n",
      "leaf_rust        72\n",
      "healthy_wheat    28\n",
      "Name: label, dtype: int64\n"
     ]
    },
    {
     "data": {
      "text/html": [
       "<div>\n",
       "<style scoped>\n",
       "    .dataframe tbody tr th:only-of-type {\n",
       "        vertical-align: middle;\n",
       "    }\n",
       "\n",
       "    .dataframe tbody tr th {\n",
       "        vertical-align: top;\n",
       "    }\n",
       "\n",
       "    .dataframe thead th {\n",
       "        text-align: right;\n",
       "    }\n",
       "</style>\n",
       "<table border=\"1\" class=\"dataframe\">\n",
       "  <thead>\n",
       "    <tr style=\"text-align: right;\">\n",
       "      <th></th>\n",
       "      <th>names</th>\n",
       "      <th>label</th>\n",
       "      <th>is_valid</th>\n",
       "    </tr>\n",
       "  </thead>\n",
       "  <tbody>\n",
       "    <tr>\n",
       "      <th>0</th>\n",
       "      <td>5QLT82.jpg</td>\n",
       "      <td>leaf_rust</td>\n",
       "      <td>True</td>\n",
       "    </tr>\n",
       "    <tr>\n",
       "      <th>1</th>\n",
       "      <td>VI0BFY.jpg</td>\n",
       "      <td>leaf_rust</td>\n",
       "      <td>False</td>\n",
       "    </tr>\n",
       "    <tr>\n",
       "      <th>2</th>\n",
       "      <td>WJN651.JPG</td>\n",
       "      <td>leaf_rust</td>\n",
       "      <td>False</td>\n",
       "    </tr>\n",
       "    <tr>\n",
       "      <th>3</th>\n",
       "      <td>D5PGB3.jpg</td>\n",
       "      <td>leaf_rust</td>\n",
       "      <td>True</td>\n",
       "    </tr>\n",
       "    <tr>\n",
       "      <th>4</th>\n",
       "      <td>1DV8YN.jpg</td>\n",
       "      <td>leaf_rust</td>\n",
       "      <td>False</td>\n",
       "    </tr>\n",
       "    <tr>\n",
       "      <th>...</th>\n",
       "      <td>...</td>\n",
       "      <td>...</td>\n",
       "      <td>...</td>\n",
       "    </tr>\n",
       "    <tr>\n",
       "      <th>871</th>\n",
       "      <td>IFQPSK.jpg</td>\n",
       "      <td>stem_rust</td>\n",
       "      <td>False</td>\n",
       "    </tr>\n",
       "    <tr>\n",
       "      <th>872</th>\n",
       "      <td>LQV40X.jpg</td>\n",
       "      <td>stem_rust</td>\n",
       "      <td>False</td>\n",
       "    </tr>\n",
       "    <tr>\n",
       "      <th>873</th>\n",
       "      <td>KAQWIP.JPG</td>\n",
       "      <td>stem_rust</td>\n",
       "      <td>False</td>\n",
       "    </tr>\n",
       "    <tr>\n",
       "      <th>874</th>\n",
       "      <td>2TUOEI.JPG</td>\n",
       "      <td>stem_rust</td>\n",
       "      <td>False</td>\n",
       "    </tr>\n",
       "    <tr>\n",
       "      <th>875</th>\n",
       "      <td>0I8NWR.JPG</td>\n",
       "      <td>stem_rust</td>\n",
       "      <td>False</td>\n",
       "    </tr>\n",
       "  </tbody>\n",
       "</table>\n",
       "<p>876 rows × 3 columns</p>\n",
       "</div>"
      ],
      "text/plain": [
       "          names      label  is_valid\n",
       "0    5QLT82.jpg  leaf_rust      True\n",
       "1    VI0BFY.jpg  leaf_rust     False\n",
       "2    WJN651.JPG  leaf_rust     False\n",
       "3    D5PGB3.jpg  leaf_rust      True\n",
       "4    1DV8YN.jpg  leaf_rust     False\n",
       "..          ...        ...       ...\n",
       "871  IFQPSK.jpg  stem_rust     False\n",
       "872  LQV40X.jpg  stem_rust     False\n",
       "873  KAQWIP.JPG  stem_rust     False\n",
       "874  2TUOEI.JPG  stem_rust     False\n",
       "875  0I8NWR.JPG  stem_rust     False\n",
       "\n",
       "[876 rows x 3 columns]"
      ]
     },
     "execution_count": 8,
     "metadata": {},
     "output_type": "execute_result"
    }
   ],
   "source": [
    "random_sample(df, 0.20)"
   ]
  },
  {
   "cell_type": "code",
   "execution_count": 9,
   "metadata": {},
   "outputs": [],
   "source": [
    "def stratified_sample(df, sample_pct):\n",
    "    x, y = df.shape\n",
    "    num_samples = int(x* sample_pct)\n",
    "    classes_in_data = len(df['label'].unique())\n",
    "    num_samples_per_class = int(num_samples/classes_in_data)\n",
    "    stratified_index = [j for i,j in df.groupby('label').apply(lambda x: x.sample(n=num_samples_per_class)).index]\n",
    "    df[\"is_valid\"] = df.index.isin(stratified_index)\n",
    "    print(df[df['is_valid']==True][\"label\"].value_counts())\n",
    "    return df"
   ]
  },
  {
   "cell_type": "code",
   "execution_count": 10,
   "metadata": {},
   "outputs": [
    {
     "name": "stdout",
     "output_type": "stream",
     "text": [
      "stem_rust        58\n",
      "leaf_rust        58\n",
      "healthy_wheat    58\n",
      "Name: label, dtype: int64\n"
     ]
    },
    {
     "data": {
      "text/html": [
       "<div>\n",
       "<style scoped>\n",
       "    .dataframe tbody tr th:only-of-type {\n",
       "        vertical-align: middle;\n",
       "    }\n",
       "\n",
       "    .dataframe tbody tr th {\n",
       "        vertical-align: top;\n",
       "    }\n",
       "\n",
       "    .dataframe thead th {\n",
       "        text-align: right;\n",
       "    }\n",
       "</style>\n",
       "<table border=\"1\" class=\"dataframe\">\n",
       "  <thead>\n",
       "    <tr style=\"text-align: right;\">\n",
       "      <th></th>\n",
       "      <th>names</th>\n",
       "      <th>label</th>\n",
       "      <th>is_valid</th>\n",
       "    </tr>\n",
       "  </thead>\n",
       "  <tbody>\n",
       "    <tr>\n",
       "      <th>0</th>\n",
       "      <td>5QLT82.jpg</td>\n",
       "      <td>leaf_rust</td>\n",
       "      <td>False</td>\n",
       "    </tr>\n",
       "    <tr>\n",
       "      <th>1</th>\n",
       "      <td>VI0BFY.jpg</td>\n",
       "      <td>leaf_rust</td>\n",
       "      <td>False</td>\n",
       "    </tr>\n",
       "    <tr>\n",
       "      <th>2</th>\n",
       "      <td>WJN651.JPG</td>\n",
       "      <td>leaf_rust</td>\n",
       "      <td>True</td>\n",
       "    </tr>\n",
       "    <tr>\n",
       "      <th>3</th>\n",
       "      <td>D5PGB3.jpg</td>\n",
       "      <td>leaf_rust</td>\n",
       "      <td>False</td>\n",
       "    </tr>\n",
       "    <tr>\n",
       "      <th>4</th>\n",
       "      <td>1DV8YN.jpg</td>\n",
       "      <td>leaf_rust</td>\n",
       "      <td>False</td>\n",
       "    </tr>\n",
       "    <tr>\n",
       "      <th>...</th>\n",
       "      <td>...</td>\n",
       "      <td>...</td>\n",
       "      <td>...</td>\n",
       "    </tr>\n",
       "    <tr>\n",
       "      <th>871</th>\n",
       "      <td>IFQPSK.jpg</td>\n",
       "      <td>stem_rust</td>\n",
       "      <td>False</td>\n",
       "    </tr>\n",
       "    <tr>\n",
       "      <th>872</th>\n",
       "      <td>LQV40X.jpg</td>\n",
       "      <td>stem_rust</td>\n",
       "      <td>False</td>\n",
       "    </tr>\n",
       "    <tr>\n",
       "      <th>873</th>\n",
       "      <td>KAQWIP.JPG</td>\n",
       "      <td>stem_rust</td>\n",
       "      <td>False</td>\n",
       "    </tr>\n",
       "    <tr>\n",
       "      <th>874</th>\n",
       "      <td>2TUOEI.JPG</td>\n",
       "      <td>stem_rust</td>\n",
       "      <td>False</td>\n",
       "    </tr>\n",
       "    <tr>\n",
       "      <th>875</th>\n",
       "      <td>0I8NWR.JPG</td>\n",
       "      <td>stem_rust</td>\n",
       "      <td>True</td>\n",
       "    </tr>\n",
       "  </tbody>\n",
       "</table>\n",
       "<p>876 rows × 3 columns</p>\n",
       "</div>"
      ],
      "text/plain": [
       "          names      label  is_valid\n",
       "0    5QLT82.jpg  leaf_rust     False\n",
       "1    VI0BFY.jpg  leaf_rust     False\n",
       "2    WJN651.JPG  leaf_rust      True\n",
       "3    D5PGB3.jpg  leaf_rust     False\n",
       "4    1DV8YN.jpg  leaf_rust     False\n",
       "..          ...        ...       ...\n",
       "871  IFQPSK.jpg  stem_rust     False\n",
       "872  LQV40X.jpg  stem_rust     False\n",
       "873  KAQWIP.JPG  stem_rust     False\n",
       "874  2TUOEI.JPG  stem_rust     False\n",
       "875  0I8NWR.JPG  stem_rust      True\n",
       "\n",
       "[876 rows x 3 columns]"
      ]
     },
     "execution_count": 10,
     "metadata": {},
     "output_type": "execute_result"
    }
   ],
   "source": [
    "stratified_sample(df, 0.20)"
   ]
  },
  {
   "cell_type": "code",
   "execution_count": 11,
   "metadata": {},
   "outputs": [
    {
     "name": "stdout",
     "output_type": "stream",
     "text": [
      "stem_rust        58\n",
      "leaf_rust        58\n",
      "healthy_wheat    58\n",
      "Name: label, dtype: int64\n"
     ]
    }
   ],
   "source": [
    "df1 = stratified_sample(df, 0.20)\n",
    "df1.to_csv('/home/ubuntu/crop/notebooks/fastai2/Prod/cv1.csv', index=False)"
   ]
  },
  {
   "cell_type": "code",
   "execution_count": 15,
   "metadata": {},
   "outputs": [
    {
     "name": "stdout",
     "output_type": "stream",
     "text": [
      "stem_rust        58\n",
      "leaf_rust        58\n",
      "healthy_wheat    58\n",
      "Name: label, dtype: int64\n"
     ]
    }
   ],
   "source": [
    "df2 = stratified_sample(df, 0.20)\n",
    "df2.to_csv('/home/ubuntu/crop/notebooks/fastai2/Prod/cv2.csv', index=False)"
   ]
  },
  {
   "cell_type": "code",
   "execution_count": 16,
   "metadata": {},
   "outputs": [
    {
     "name": "stdout",
     "output_type": "stream",
     "text": [
      "stem_rust        58\n",
      "leaf_rust        58\n",
      "healthy_wheat    58\n",
      "Name: label, dtype: int64\n"
     ]
    }
   ],
   "source": [
    "df3 = stratified_sample(df, 0.20)\n",
    "df3.to_csv('/home/ubuntu/crop/notebooks/fastai2/Prod/cv3.csv', index=False)"
   ]
  },
  {
   "cell_type": "code",
   "execution_count": 17,
   "metadata": {},
   "outputs": [
    {
     "name": "stdout",
     "output_type": "stream",
     "text": [
      "stem_rust        58\n",
      "leaf_rust        58\n",
      "healthy_wheat    58\n",
      "Name: label, dtype: int64\n"
     ]
    }
   ],
   "source": [
    "df4 = stratified_sample(df, 0.20)\n",
    "df4.to_csv('/home/ubuntu/crop/notebooks/fastai2/Prod/cv4.csv', index=False)"
   ]
  },
  {
   "cell_type": "code",
   "execution_count": 18,
   "metadata": {},
   "outputs": [
    {
     "name": "stdout",
     "output_type": "stream",
     "text": [
      "stem_rust        58\n",
      "leaf_rust        58\n",
      "healthy_wheat    58\n",
      "Name: label, dtype: int64\n"
     ]
    }
   ],
   "source": [
    "df5 = stratified_sample(df, 0.20)\n",
    "df5.to_csv('/home/ubuntu/crop/notebooks/fastai2/Prod/cv5.csv', index=False)"
   ]
  },
  {
   "cell_type": "code",
   "execution_count": null,
   "metadata": {},
   "outputs": [],
   "source": []
  }
 ],
 "metadata": {
  "kernelspec": {
   "display_name": "Python 3",
   "language": "python",
   "name": "python3"
  },
  "language_info": {
   "codemirror_mode": {
    "name": "ipython",
    "version": 3
   },
   "file_extension": ".py",
   "mimetype": "text/x-python",
   "name": "python",
   "nbconvert_exporter": "python",
   "pygments_lexer": "ipython3",
   "version": "3.7.6"
  }
 },
 "nbformat": 4,
 "nbformat_minor": 4
}
